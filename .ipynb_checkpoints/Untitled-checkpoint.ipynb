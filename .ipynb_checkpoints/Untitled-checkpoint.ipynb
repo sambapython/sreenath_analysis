{
 "cells": [
  {
   "cell_type": "code",
   "execution_count": null,
   "metadata": {
    "collapsed": false
   },
   "outputs": [
    {
     "name": "stderr",
     "output_type": "stream",
     "text": [
      "Exception in Tkinter callback\n",
      "Traceback (most recent call last):\n",
      "  File \"/home/samba/anaconda2/lib/python2.7/lib-tk/Tkinter.py\", line 1537, in __call__\n",
      "    return self.func(*args)\n",
      "  File \"<ipython-input-12-aeb517c9c500>\", line 24, in get_chart\n",
      "    data = pd.read_excel(stock,skiprows=1, index_col=0, parse_dates=[0])\n",
      "  File \"/home/samba/anaconda2/lib/python2.7/site-packages/pandas/io/excel.py\", line 170, in read_excel\n",
      "    io = ExcelFile(io, engine=engine)\n",
      "  File \"/home/samba/anaconda2/lib/python2.7/site-packages/pandas/io/excel.py\", line 227, in __init__\n",
      "    self.book = xlrd.open_workbook(io)\n",
      "  File \"/home/samba/anaconda2/lib/python2.7/site-packages/xlrd/__init__.py\", line 395, in open_workbook\n",
      "    with open(filename, \"rb\") as f:\n",
      "IOError: [Errno 2] No such file or directory: '40.xlsx'\n"
     ]
    }
   ],
   "source": [
    "from os import listdir\n",
    "from os.path import isfile, join\n",
    "from Tkinter import *\n",
    "import pandas as pd\n",
    "\n",
    "\n",
    "# the constructor syntax is:\n",
    "# OptionMenu(master, variable, *values)\n",
    "path=\"data\"\n",
    "stockfiles = [f for f in listdir(path) if isfile(join(path, f))]\n",
    "\n",
    "master = Tk()\n",
    "\n",
    "variable = StringVar(master)\n",
    "variable.set(stockfiles) # default value\n",
    "\n",
    "menu = apply(OptionMenu, (master, variable) + tuple(stockfiles))\n",
    "menu.pack()\n",
    "def get_chart():\n",
    "    stock = variable.get()\n",
    "    ext = stock.split('.')[-1]\n",
    "    file_path = join(path,stock)\n",
    "    if ext == 'xlsx':\n",
    "        data = pd.read_excel(file_path,skiprows=1, index_col=0, parse_dates=[0])\n",
    "        \n",
    "        print data\n",
    "    master.quit()\n",
    "button = Button(master, text=\"get chart\", command=get_chart)\n",
    "button.pack()\n",
    "mainloop()"
   ]
  },
  {
   "cell_type": "code",
   "execution_count": 10,
   "metadata": {
    "collapsed": true
   },
   "outputs": [],
   "source": [
    "import pandas as pd\n",
    "pd.read_excel?"
   ]
  },
  {
   "cell_type": "code",
   "execution_count": null,
   "metadata": {
    "collapsed": true
   },
   "outputs": [],
   "source": []
  }
 ],
 "metadata": {
  "anaconda-cloud": {},
  "kernelspec": {
   "display_name": "Python [default]",
   "language": "python",
   "name": "python2"
  },
  "language_info": {
   "codemirror_mode": {
    "name": "ipython",
    "version": 2
   },
   "file_extension": ".py",
   "mimetype": "text/x-python",
   "name": "python",
   "nbconvert_exporter": "python",
   "pygments_lexer": "ipython2",
   "version": "2.7.12"
  }
 },
 "nbformat": 4,
 "nbformat_minor": 1
}
